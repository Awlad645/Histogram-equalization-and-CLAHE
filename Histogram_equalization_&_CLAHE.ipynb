{
  "nbformat": 4,
  "nbformat_minor": 0,
  "metadata": {
    "colab": {
      "provenance": []
    },
    "kernelspec": {
      "name": "python3",
      "display_name": "Python 3"
    },
    "language_info": {
      "name": "python"
    }
  },
  "cells": [
    {
      "cell_type": "code",
      "source": [
        "from google.colab import drive\n",
        "drive.mount('/content/drive')"
      ],
      "metadata": {
        "colab": {
          "base_uri": "https://localhost:8080/"
        },
        "id": "-VgMymDrY6o6",
        "outputId": "d8d09b92-4e85-44c5-b32f-189ea0175b12"
      },
      "execution_count": null,
      "outputs": [
        {
          "output_type": "stream",
          "name": "stdout",
          "text": [
            "Mounted at /content/drive\n"
          ]
        }
      ]
    },
    {
      "cell_type": "code",
      "source": [
        "\n",
        "import os\n",
        "from os import listdir\n",
        "from os.path import isfile, join\n",
        "import numpy as np\n",
        "import cv2 \n",
        "from scipy import fftpack\n",
        "from PIL import Image,ImageEnhance\n",
        "import scipy.fftpack\n",
        "from skimage import data, io\n",
        "from scipy.signal import convolve2d as conv2\n",
        "\n",
        "folder1 = '/content/drive/MyDrive/z/data'\n",
        "\n",
        "dirr1 = '/content/drive/MyDrive/z/Hist'\n",
        "j=1\n",
        "\n",
        "for im in os.listdir(folder1):\n",
        "    #read image\n",
        "    path = os.path.join(folder1,im)\n",
        "    img = cv2.imread(path)\n",
        "    #cv2.imwrite(os.path.join(dirr1,'raw '+str(j)+'.png'),img)\n",
        "    imgg = Image.open(path)\n",
        "    lab_img= cv2.cvtColor(img, cv2.COLOR_BGR2LAB)\n",
        "\n",
        "\n",
        "    l, a, b = cv2.split(lab_img)\n",
        "\n",
        "\n",
        "    equ = cv2.equalizeHist(l)\n",
        "\n",
        "\n",
        "    updated_lab_img1 = cv2.merge((equ,a,b))\n",
        "    hist = cv2.cvtColor(updated_lab_img1, cv2.COLOR_LAB2BGR)\n",
        "    cv2.imwrite(os.path.join(dirr1,str(j)+'.png'),hist)\n",
        "    j=j+1"
      ],
      "metadata": {
        "id": "85pe2r--y_KL"
      },
      "execution_count": null,
      "outputs": []
    },
    {
      "cell_type": "code",
      "source": [
        "\n",
        "import os\n",
        "from os import listdir\n",
        "from os.path import isfile, join\n",
        "import numpy as np\n",
        "import cv2 \n",
        "from scipy import fftpack\n",
        "from PIL import Image,ImageEnhance\n",
        "import scipy.fftpack\n",
        "from skimage import data, io\n",
        "from scipy.signal import convolve2d as conv2\n",
        "\n",
        "folder1 = '/content/drive/MyDrive/z/data'\n",
        "\n",
        "dirr1 = '/content/drive/MyDrive/z/Clahe1'\n",
        "j=1\n",
        "\n",
        "for im in os.listdir(folder1):\n",
        "    #read image\n",
        "    path = os.path.join(folder1,im)\n",
        "    img = cv2.imread(path)\n",
        "    #cv2.imwrite(os.path.join(dirr1,'raw '+str(j)+'.png'),img)\n",
        "    imgg = Image.open(path)\n",
        "    lab_img= cv2.cvtColor(img, cv2.COLOR_BGR2LAB)\n",
        "\n",
        "\n",
        "    l, a, b = cv2.split(lab_img)\n",
        "\n",
        "\n",
        "    clahe = cv2.createCLAHE(clipLimit=2.0, tileGridSize=(8,8))\n",
        "    equ = clahe.apply(l)\n",
        "\n",
        "\n",
        "    updated_lab_img1 = cv2.merge((equ,a,b))\n",
        "    cla = cv2.cvtColor(updated_lab_img1, cv2.COLOR_LAB2BGR)\n",
        "\n",
        "    cla = cv2.resize(cla, (224, 224))\n",
        "\n",
        "    cv2.imwrite(os.path.join(dirr1,str(j)+'.png'),cla)\n",
        "    j=j+1"
      ],
      "metadata": {
        "id": "zfA7OFN4vifP"
      },
      "execution_count": 7,
      "outputs": []
    }
  ]
}